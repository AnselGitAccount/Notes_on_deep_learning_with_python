{
 "metadata": {
  "language_info": {
   "codemirror_mode": {
    "name": "ipython",
    "version": 3
   },
   "file_extension": ".py",
   "mimetype": "text/x-python",
   "name": "python",
   "nbconvert_exporter": "python",
   "pygments_lexer": "ipython3",
   "version": "3.6.8-final"
  },
  "orig_nbformat": 2,
  "kernelspec": {
   "name": "python3",
   "display_name": "Python 3",
   "language": "python"
  }
 },
 "nbformat": 4,
 "nbformat_minor": 2,
 "cells": [
  {
   "cell_type": "code",
   "execution_count": 2,
   "metadata": {},
   "outputs": [
    {
     "output_type": "execute_result",
     "data": {
      "text/plain": [
       "'2.4.0'"
      ]
     },
     "metadata": {},
     "execution_count": 2
    }
   ],
   "source": [
    "import tensorflow.keras as keras\n",
    "keras.__version__"
   ]
  },
  {
   "source": [
    "# The `ModelCheckpoint` and `EarlyStopping` callbacks\n",
    "\n",
    "You can use the `EarlyStopping` call to interrupt train once a target metric being monitored has hstopped improving for a fixed number of epochs. This callback is typically used in combination with `ModelCheckpoint`, which lets you continually save the model during training."
   ],
   "cell_type": "markdown",
   "metadata": {}
  },
  {
   "cell_type": "code",
   "execution_count": null,
   "metadata": {},
   "outputs": [],
   "source": [
    "import tensorflow.keras\n",
    "\n",
    "callbacks_list = [\n",
    "\n",
    "    # Interrupts training when improvement stops.\n",
    "    keras.callbacks.EarlyStopping(\n",
    "        # Monitors the model's validation accuracy.\n",
    "        monitor='acc',\n",
    "        # Interrupts training when accuracy has stopped improving \n",
    "        # for more than one epoch (that is, two epochs)\n",
    "        patience=1,\n",
    "    ),\n",
    "    \n",
    "    # Saves the current weights after every epoch.\n",
    "    keras.callbacks.ModelCheckpoint(\n",
    "        filepath='my_model.h5',     # Path to the destination model file.\n",
    "\n",
    "        # These two arguments mean you won't overwrite the model file unless \n",
    "        # 'val_loss' has improved, which allows you to keep the best model seen during training.\n",
    "        monitor='val_loss',\n",
    "        save_best_only=True,\n",
    "    )\n",
    "]\n",
    "\n",
    "\n",
    "# You monitor accuracy, so it should be part of the model's metrics.\n",
    "model.compile(optimizer='rmsprop',\n",
    "                loss='binary_crossentropy',\n",
    "                metrics=['acc'])\n",
    "\n",
    "\n",
    "# Because the callback will monitor validation loss and validation accuracy,\n",
    "# you need to pass validation_data to the call to fit.\n",
    "model.fit(x, y,\n",
    "            epochs=10,\n",
    "            batch_size=32,\n",
    "            callbacks=callbacks_list,\n",
    "            validation_data=(x_val, y_val))"
   ]
  },
  {
   "source": [
    "# The `ReduceLROnPlateau` callback\n",
    "\n",
    "Use this callback to reduce the learning rate when the validation loss has stopped improving. Reducing or increasing the learning rate in case of a loss plateau is an effective strategy to get out of local minima during training."
   ],
   "cell_type": "markdown",
   "metadata": {}
  },
  {
   "cell_type": "code",
   "execution_count": null,
   "metadata": {},
   "outputs": [],
   "source": [
    "callbacks_list = [\n",
    "    kears.callbacks.ReduceLROnPlateau(\n",
    "        # Monitors the model's validation loss.\n",
    "        monitor='val_loss',\n",
    "        # Divides the learning rate by 10 when trigged.\n",
    "        factor=0.1,   \n",
    "        # The callback is triggered after the validation loss has stopped improving for 10 epochs.\n",
    "        patience=10,    \n",
    "    )\n",
    "]\n",
    "\n",
    "\n",
    "# Because the callback will monitor validation loss and validation accuracy,\n",
    "# you need to pass validation_data to the call to fit.\n",
    "model.fit(x, y,\n",
    "            epochs=10,\n",
    "            batch_size=32,\n",
    "            callbacks=callbacks_list,\n",
    "            validation_data=(x_val, y_val))"
   ]
  }
 ]
}