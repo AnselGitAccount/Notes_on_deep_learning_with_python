{
 "cells": [
  {
   "cell_type": "markdown",
   "metadata": {},
   "source": [
    "# Boston Housing Price\n",
    "A regression example.\\\n",
    "Predict the *median price of homes* in a given Boston suburb in the mid-1970s, given the crime rate, the local property tax rate, and so on.\n",
    "\n",
    "Only 506 samples, split into 404 training samples and 102 test samples. 13 features, and each feature has a different numerical range. For example, feature One takes values between 0 and 1; feature Two takes values between 1 and 12...\n",
    "\n",
    "\n",
    "Deep Learning with Python by Francois Chollet"
   ]
  },
  {
   "cell_type": "code",
   "execution_count": 1,
   "metadata": {},
   "outputs": [],
   "source": [
    "from keras.datasets import boston_housing"
   ]
  },
  {
   "cell_type": "code",
   "execution_count": 2,
   "metadata": {},
   "outputs": [],
   "source": [
    "(train_data, train_targets), (test_data, test_targets) = boston_housing.load_data()"
   ]
  },
  {
   "cell_type": "markdown",
   "metadata": {},
   "source": [
    "## Preparing the data\n",
    "Need to normalize the heterogeneous data.\\\n",
    "The feature should be centered around 0 and has a unit standard deviation."
   ]
  },
  {
   "cell_type": "code",
   "execution_count": 3,
   "metadata": {},
   "outputs": [],
   "source": [
    "mean = train_data.mean(axis=0)\n",
    "train_data -= mean\n",
    "std = train_data.std(axis=0)\n",
    "train_data /= std\n",
    "\n",
    "test_data -= mean\n",
    "test_data /= std"
   ]
  },
  {
   "cell_type": "markdown",
   "metadata": {},
   "source": [
    "## Build the network\n",
    "The network ends with a single unit and no activation (ie. a linear layer). This is a typica lsetup for scalar regression (a regression where you're trying to predict a single continuous value).\n",
    "\n",
    "Monitoring the metric: mean absolute error (MAE)."
   ]
  },
  {
   "cell_type": "code",
   "execution_count": 12,
   "metadata": {},
   "outputs": [],
   "source": [
    "from keras import models\n",
    "from keras import layers\n",
    "\n",
    "def build_model():\n",
    "    model = models.Sequential()\n",
    "    model.add(layers.Dense(64, activation='relu', input_shape=(train_data.shape[1],)))\n",
    "    model.add(layers.Dense(64, activation='relu'))\n",
    "    model.add(layers.Dense(1))\n",
    "    model.compile(optimizer='rmsprop', loss='mse', metrics=['mae'])\n",
    "    return model"
   ]
  },
  {
   "cell_type": "markdown",
   "metadata": {},
   "source": [
    "## Validating using K-fold validation\n",
    "Because there are few samples, splitting them into training, validation, and testing sets is not a good idea.\\\n",
    "Save the metrics for each epoch and for each fold."
   ]
  },
  {
   "cell_type": "code",
   "execution_count": 14,
   "metadata": {},
   "outputs": [
    {
     "name": "stdout",
     "output_type": "stream",
     "text": [
      "processing fold # 1 / 4\n",
      "processing fold # 2 / 4\n",
      "processing fold # 3 / 4\n",
      "processing fold # 4 / 4\n"
     ]
    }
   ],
   "source": [
    "import numpy as np\n",
    "\n",
    "k = 4\n",
    "num_val_samples = len(train_data) // k\n",
    "num_epochs = 500\n",
    "all_mae_histories = []\n",
    "\n",
    "for i in range(k):\n",
    "    print('processing fold #', i+1, '/',k)\n",
    "    [kstrt, kend] = [i*num_val_samples, (i+1)*num_val_samples]\n",
    "    \n",
    "    # Prepares validation data from partition k.\n",
    "    val_data = train_data[kstrt:kend]\n",
    "    val_targets = train_targets[kstrt:kend]\n",
    "    \n",
    "    # prepares training data from all other partitions.\n",
    "    training_data = np.concatenate([train_data[:kstrt], \n",
    "                                    train_data[kend:]], axis=0)\n",
    "    training_targets = np.concatenate([train_targets[:kstrt], \n",
    "                                       train_targets[kend:]], axis=0)\n",
    "    \n",
    "    model = build_model()   # <--------- Build the model\n",
    "    \n",
    "    history = model.fit(training_data, training_targets,\n",
    "                 epochs=num_epochs, batch_size=1, verbose=False)\n",
    "    \n",
    "    # save MAE for partition k.\n",
    "    all_mae_histories.append(history.history['mae'])"
   ]
  },
  {
   "cell_type": "code",
   "execution_count": 15,
   "metadata": {},
   "outputs": [],
   "source": [
    "# Mean k-fold validation scores\n",
    "average_mae_history = [ np.mean([x[i] for x in all_mae_histories]) for i in range(num_epochs) ]"
   ]
  },
  {
   "cell_type": "code",
   "execution_count": 18,
   "metadata": {},
   "outputs": [
    {
     "data": {
      "image/png": "[encoded data removed]",
      "text/plain": [
       "<Figure size 432x288 with 1 Axes>"
      ]
     },
     "metadata": {
      "needs_background": "light"
     },
     "output_type": "display_data"
    },
    {
     "data": {
      "text/plain": [
       "'\\nMAE did not hit bottom. More epochs might lead to lower MAE. \\nUsually we want to pick an epoch number when MAE is at the lowest.\\n'"
      ]
     },
     "execution_count": 18,
     "metadata": {},
     "output_type": "execute_result"
    }
   ],
   "source": [
    "import matplotlib.pyplot as plt\n",
    "\n",
    "plt.plot(range(1, len(average_mae_history) + 1), average_mae_history)\n",
    "plt.xlabel('Epochs')\n",
    "plt.ylabel('Validation MAE')\n",
    "plt.show()\n",
    "\n",
    "\n",
    "\"\"\"\n",
    "MAE did not hit bottom. More epochs might lead to lower MAE. \n",
    "Usually we want to pick an epoch number when MAE is at the lowest.\n",
    "\"\"\""
   ]
  },
  {
   "cell_type": "code",
   "execution_count": null,
   "metadata": {},
   "outputs": [],
   "source": []
  }
 ],
 "metadata": {
  "kernelspec": {
   "display_name": "Python 3",
   "language": "python",
   "name": "python3"
  },
  "language_info": {
   "codemirror_mode": {
    "name": "ipython",
    "version": 3
   },
   "file_extension": ".py",
   "mimetype": "text/x-python",
   "name": "python",
   "nbconvert_exporter": "python",
   "pygments_lexer": "ipython3",
   "version": "3.7.3"
  }
 },
 "nbformat": 4,
 "nbformat_minor": 4
}
