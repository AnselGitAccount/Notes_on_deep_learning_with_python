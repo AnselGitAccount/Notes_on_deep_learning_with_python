{
 "cells": [
  {
   "cell_type": "raw",
   "metadata": {},
   "source": [
    "IMDB dataset\n",
    "    - 50,000 highly polarized reviews.\n",
    "    - 25,000 for training and 25,000 for testing, each set consisting of 50% negative and 50% positive reviews.\n",
    "    - The reviews (sequences of words) have been turned into sequences of integers, \n",
    "        where each integer stands for a specific word in a dictionary.\n",
    "    - Labels are 0 and 1, where 0 is negative and 1 is positive review.\n",
    "    \n",
    "    \n",
    "Deep Learning with Python by Francois Chollet"
   ]
  },
  {
   "cell_type": "markdown",
   "metadata": {},
   "source": [
    "## Acquire Data"
   ]
  },
  {
   "cell_type": "code",
   "execution_count": 1,
   "metadata": {},
   "outputs": [],
   "source": [
    "from keras.datasets import imdb\n",
    "import numpy as np"
   ]
  },
  {
   "cell_type": "code",
   "execution_count": 2,
   "metadata": {},
   "outputs": [],
   "source": [
    "# Only keep the top 10,000 most frequently occurring words. \n",
    "# Rare words will be discarded. <--- Manageable size.\n",
    "(train_data, train_labels), (test_data, test_labels) = imdb.load_data(num_words=10000)"
   ]
  },
  {
   "cell_type": "code",
   "execution_count": 3,
   "metadata": {},
   "outputs": [],
   "source": [
    "word_index = imdb.get_word_index()\n",
    "def translate_to_English(review):\n",
    "    # words and integers are one-to-one mapped.\n",
    "    reverse_word_index = dict([(v,k) for (k,v) in word_index.items()])\n",
    "    decoded_review = ' '.join([reverse_word_index.get(i-3,'?') for i in review])\n",
    "    return decoded_review\n",
    "\n",
    "review = translate_to_English(train_data[0])"
   ]
  },
  {
   "cell_type": "markdown",
   "metadata": {},
   "source": [
    "## Prepare the data\n",
    "Encoding the integer sequences into a binary matrix.\\\n",
    "Use one-hot encoding -- each review is translated to a vector of 0s and 1s. \\\n",
    "[0 1 0 0 1]\\\n",
    "[a b c d e]\\\n",
    "\\'b e\\'  "
   ]
  },
  {
   "cell_type": "code",
   "execution_count": 4,
   "metadata": {},
   "outputs": [],
   "source": [
    "def vectorize_sequences(sequences, dimension=10000):\n",
    "    re = np.zeros((len(sequences), dimension))\n",
    "    for i, sequence in enumerate(sequences):     # loop over each of 25,000 reviews.\n",
    "        # Since sequence is a vector of integers, it can be used as index.\n",
    "        # Words contained in the review are set to 1.\n",
    "        re[i, sequence] = 1.\n",
    "    return re.astype('float32')"
   ]
  },
  {
   "cell_type": "code",
   "execution_count": 5,
   "metadata": {},
   "outputs": [],
   "source": [
    "x_train = vectorize_sequences(train_data)\n",
    "x_test = vectorize_sequences(test_data)\n",
    "y_train = np.asarray(train_labels).astype('float32')\n",
    "y_test = np.asarray(test_labels).astype('float32')"
   ]
  },
  {
   "cell_type": "code",
   "execution_count": 12,
   "metadata": {},
   "outputs": [
    {
     "name": "stdout",
     "output_type": "stream",
     "text": [
      "(25000, 10000)\n",
      "(25000, 10000)\n",
      "(25000,)\n",
      "(25000,)\n"
     ]
    }
   ],
   "source": [
    "print(x_train.shape)\n",
    "print(x_test.shape)\n",
    "print(y_train.shape)\n",
    "print(y_test.shape)"
   ]
  },
  {
   "cell_type": "markdown",
   "metadata": {},
   "source": [
    "## Build network\n",
    "The intermediate layers will use relu as their activation function, and \\\n",
    "the final layer will use a sigmoid activation so as to output a probability between 0 and 1."
   ]
  },
  {
   "cell_type": "code",
   "execution_count": 7,
   "metadata": {},
   "outputs": [],
   "source": [
    "from keras import models\n",
    "from keras import layers\n",
    "\n",
    "model = models.Sequential()\n",
    "\n",
    "\"\"\"\n",
    "# layers with: 10000[=input], 16, 16, 1[=output]\n",
    "# The input layer is bundled with the first hidden layer -- Must specify input-dimension for the first hidden layer. \n",
    "# The subsequent layers can deduce input shapes.\n",
    "# 16 hidden units means the weight matrix W will have shape (input_dimension, 16)\n",
    "\"\"\"\n",
    "\n",
    "model.add(layers.Dense(16, activation='relu', input_shape=(10000,)))\n",
    "model.add(layers.Dense(16, activation='relu'))\n",
    "model.add(layers.Dense(1, activation='sigmoid'))"
   ]
  },
  {
   "cell_type": "markdown",
   "metadata": {},
   "source": [
    "## Train the model\n",
    "Specify the optimizer and loss function.\\\n",
    "Create a validation set by setting appart 10,000 samples from the orginal training data."
   ]
  },
  {
   "cell_type": "code",
   "execution_count": 8,
   "metadata": {},
   "outputs": [],
   "source": [
    "x_validation = x_train[:10000]\n",
    "x_training = x_train[10000:]\n",
    "y_validation = y_train[:10000]\n",
    "y_training = y_train[10000:]"
   ]
  },
  {
   "cell_type": "code",
   "execution_count": 9,
   "metadata": {},
   "outputs": [
    {
     "name": "stdout",
     "output_type": "stream",
     "text": [
      "Model: \"sequential\"\n",
      "_________________________________________________________________\n",
      "Layer (type)                 Output Shape              Param #   \n",
      "=================================================================\n",
      "dense (Dense)                (None, 16)                160016    \n",
      "_________________________________________________________________\n",
      "dense_1 (Dense)              (None, 16)                272       \n",
      "_________________________________________________________________\n",
      "dense_2 (Dense)              (None, 1)                 17        \n",
      "=================================================================\n",
      "Total params: 160,305\n",
      "Trainable params: 160,305\n",
      "Non-trainable params: 0\n",
      "_________________________________________________________________\n"
     ]
    }
   ],
   "source": [
    "model.compile(optimizer='rmsprop',\n",
    "             loss='binary_crossentropy',\n",
    "             metrics=['accuracy'])\n",
    "\n",
    "\n",
    "model.summary()"
   ]
  },
  {
   "cell_type": "code",
   "execution_count": 14,
   "metadata": {},
   "outputs": [
    {
     "name": "stdout",
     "output_type": "stream",
     "text": [
      "Epoch 1/20\n",
      "30/30 [==============================] - 1s 18ms/step - loss: 6.6447e-04 - accuracy: 1.0000 - val_loss: 0.9230 - val_accuracy: 0.8620\n",
      "Epoch 2/20\n",
      "30/30 [==============================] - 0s 14ms/step - loss: 5.4510e-04 - accuracy: 1.0000 - val_loss: 0.9626 - val_accuracy: 0.8627\n",
      "Epoch 3/20\n",
      "30/30 [==============================] - 0s 13ms/step - loss: 0.0067 - accuracy: 0.9980 - val_loss: 1.0161 - val_accuracy: 0.8624\n",
      "Epoch 4/20\n",
      "30/30 [==============================] - 0s 13ms/step - loss: 2.9122e-04 - accuracy: 1.0000 - val_loss: 1.0292 - val_accuracy: 0.8625\n",
      "Epoch 5/20\n",
      "30/30 [==============================] - 0s 14ms/step - loss: 2.5386e-04 - accuracy: 1.0000 - val_loss: 1.0492 - val_accuracy: 0.8621\n",
      "Epoch 6/20\n",
      "30/30 [==============================] - 0s 13ms/step - loss: 2.0719e-04 - accuracy: 1.0000 - val_loss: 1.0891 - val_accuracy: 0.8587\n",
      "Epoch 7/20\n",
      "30/30 [==============================] - 0s 13ms/step - loss: 0.0028 - accuracy: 0.9991 - val_loss: 1.1504 - val_accuracy: 0.8621\n",
      "Epoch 8/20\n",
      "30/30 [==============================] - 0s 13ms/step - loss: 1.1689e-04 - accuracy: 1.0000 - val_loss: 1.1530 - val_accuracy: 0.8616\n",
      "Epoch 9/20\n",
      "30/30 [==============================] - 0s 14ms/step - loss: 1.0056e-04 - accuracy: 1.0000 - val_loss: 1.1748 - val_accuracy: 0.8608\n",
      "Epoch 10/20\n",
      "30/30 [==============================] - 1s 20ms/step - loss: 8.3182e-05 - accuracy: 1.0000 - val_loss: 1.2367 - val_accuracy: 0.8599\n",
      "Epoch 11/20\n",
      "30/30 [==============================] - 0s 15ms/step - loss: 0.0028 - accuracy: 0.9992 - val_loss: 1.2684 - val_accuracy: 0.8590\n",
      "Epoch 12/20\n",
      "30/30 [==============================] - 0s 14ms/step - loss: 4.5478e-05 - accuracy: 1.0000 - val_loss: 1.2814 - val_accuracy: 0.8582\n",
      "Epoch 13/20\n",
      "30/30 [==============================] - 0s 15ms/step - loss: 4.0907e-05 - accuracy: 1.0000 - val_loss: 1.3013 - val_accuracy: 0.8576\n",
      "Epoch 14/20\n",
      "30/30 [==============================] - 0s 13ms/step - loss: 3.4737e-05 - accuracy: 1.0000 - val_loss: 1.3331 - val_accuracy: 0.8579\n",
      "Epoch 15/20\n",
      "30/30 [==============================] - 0s 15ms/step - loss: 0.0022 - accuracy: 0.9994 - val_loss: 1.3887 - val_accuracy: 0.8549\n",
      "Epoch 16/20\n",
      "30/30 [==============================] - 0s 14ms/step - loss: 2.7492e-05 - accuracy: 1.0000 - val_loss: 1.3971 - val_accuracy: 0.8558\n",
      "Epoch 17/20\n",
      "30/30 [==============================] - 0s 13ms/step - loss: 2.1419e-05 - accuracy: 1.0000 - val_loss: 1.4066 - val_accuracy: 0.8566\n",
      "Epoch 18/20\n",
      "30/30 [==============================] - 0s 13ms/step - loss: 1.7816e-05 - accuracy: 1.0000 - val_loss: 1.4231 - val_accuracy: 0.8568\n",
      "Epoch 19/20\n",
      "30/30 [==============================] - 0s 13ms/step - loss: 1.4532e-05 - accuracy: 1.0000 - val_loss: 1.4689 - val_accuracy: 0.8566\n",
      "Epoch 20/20\n",
      "30/30 [==============================] - 0s 15ms/step - loss: 0.0012 - accuracy: 0.9996 - val_loss: 1.5421 - val_accuracy: 0.8543\n"
     ]
    }
   ],
   "source": [
    "history = model.fit(x_training, y_training, epochs=20, batch_size=512, \n",
    "                    validation_data=(x_validation, y_validation))"
   ]
  },
  {
   "cell_type": "code",
   "execution_count": 30,
   "metadata": {},
   "outputs": [
    {
     "name": "stdout",
     "output_type": "stream",
     "text": [
      "dict_keys(['loss', 'accuracy', 'val_loss', 'val_accuracy'])\n"
     ]
    }
   ],
   "source": [
    "history_dict = history.history\n",
    "print(history_dict.keys())\n",
    "\n",
    "loss_values = history_dict['loss']               # training loss\n",
    "val_loss_values = history_dict['val_loss']       # validation loss\n",
    "acc_values = history_dict['accuracy']            # training accuracy \n",
    "val_acc_values = history_dict['val_accuracy']    # validation accuracy"
   ]
  },
  {
   "cell_type": "code",
   "execution_count": 31,
   "metadata": {},
   "outputs": [
    {
     "data": {
      "image/png": "[encoded data removed]",
      "text/plain": [
       "<Figure size 432x288 with 1 Axes>"
      ]
     },
     "metadata": {
      "needs_background": "light"
     },
     "output_type": "display_data"
    }
   ],
   "source": [
    "import matplotlib.pyplot as plt\n",
    "\n",
    "epochs = range(1, len(acc_values) +1)\n",
    "plt.plot(epochs, loss_values, 'bo', label='Training loss')\n",
    "plt.plot(epochs, val_loss_values, 'b', label='Validation loss')\n",
    "plt.title('Training and validation loss')\n",
    "plt.xlabel('Epochs')\n",
    "plt.ylabel('Loss')\n",
    "plt.legend()\n",
    "\n",
    "plt.show()"
   ]
  },
  {
   "cell_type": "code",
   "execution_count": 33,
   "metadata": {},
   "outputs": [
    {
     "data": {
      "image/png": "[encoded data removed]",
      "text/plain": [
       "<Figure size 432x288 with 1 Axes>"
      ]
     },
     "metadata": {
      "needs_background": "light"
     },
     "output_type": "display_data"
    }
   ],
   "source": [
    "plt.clf()\n",
    "\n",
    "plt.plot(epochs, acc_values, 'bo', label='Training accuracy')\n",
    "plt.plot(epochs, val_acc_values, 'b', label='Validation accuracy')\n",
    "plt.title('Training and validation accuracy')\n",
    "plt.xlabel('Epochs')\n",
    "plt.ylabel('accuracy')\n",
    "plt.legend()\n",
    "\n",
    "plt.show()"
   ]
  },
  {
   "cell_type": "markdown",
   "metadata": {},
   "source": [
    "## Overfitting\n",
    "\n",
    "Validation accuracy dips slightly over epochs. This is a sign of overfitting.\\\n",
    "For the first five epochs the validation accuracy is essentially flat while training accuracy is also flat.\\\n",
    "So the training can stop after 1st epoch, to prevent overfitting."
   ]
  },
  {
   "cell_type": "code",
   "execution_count": 35,
   "metadata": {},
   "outputs": [
    {
     "name": "stdout",
     "output_type": "stream",
     "text": [
      "782/782 [==============================] - 1s 1ms/step - loss: 1.6994 - accuracy: 0.8384\n"
     ]
    },
    {
     "data": {
      "text/plain": [
       "[1.6993767023086548, 0.8384000062942505]"
      ]
     },
     "execution_count": 35,
     "metadata": {},
     "output_type": "execute_result"
    }
   ],
   "source": [
    "# evaludate() returns [loss, accuracy]\n",
    "model.evaluate(x_test, y_test)"
   ]
  },
  {
   "cell_type": "markdown",
   "metadata": {},
   "source": [
    "## Use a trained network to predict\n",
    "Use a trained network to generate predictions on new data"
   ]
  },
  {
   "cell_type": "code",
   "execution_count": null,
   "metadata": {},
   "outputs": [],
   "source": [
    "prediction = model.predict(x_test)\n",
    "print(prediction.shape)"
   ]
  }
 ],
 "metadata": {
  "kernelspec": {
   "display_name": "Python 3",
   "language": "python",
   "name": "python3"
  },
  "language_info": {
   "codemirror_mode": {
    "name": "ipython",
    "version": 3
   },
   "file_extension": ".py",
   "mimetype": "text/x-python",
   "name": "python",
   "nbconvert_exporter": "python",
   "pygments_lexer": "ipython3",
   "version": "3.7.3"
  }
 },
 "nbformat": 4,
 "nbformat_minor": 4
}
